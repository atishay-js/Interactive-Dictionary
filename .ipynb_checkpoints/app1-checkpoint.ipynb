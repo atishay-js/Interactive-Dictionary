{
 "cells": [
  {
   "cell_type": "code",
   "execution_count": 4,
   "metadata": {},
   "outputs": [
    {
     "name": "stdout",
     "output_type": "stream",
     "text": [
      "Enter word :prain\n",
      "Did you mean sprain instead? Press Y for yes and N for no: y\n",
      "Injury which occurs to ligaments or joints caused by a sudden overstretching.\n",
      "To get an injury to a ligament or a joint caused by a sudden overstretching.\n"
     ]
    }
   ],
   "source": [
    "import json\n",
    "data=json.load(open(\"data.json\"))\n",
    "\n",
    "import difflib\n",
    "from difflib import SequenceMatcher\n",
    "from difflib import get_close_matches\n",
    "\n",
    "def translate(word):\n",
    "    if word in data:\n",
    "        return data[word]\n",
    "    elif word.title() in data:\n",
    "        return data[word.title()]\n",
    "    elif word.upper() in data:\n",
    "        return data[word.upper()]\n",
    "    elif len(get_close_matches(word,data.keys()))>0:\n",
    "        yn = input(\"Did you mean %s instead? Press Y for yes and N for no: \"%get_close_matches(word,data.keys())[0]).upper()\n",
    "        if yn==\"Y\":\n",
    "            return data[get_close_matches(word,data.keys())[0]]\n",
    "        elif yn==\"N\":\n",
    "            return(\"Word doesn't Exist! Double Check it!!\")\n",
    "        else:\n",
    "            return \"We didnt understand your input choose from Y or N\"\n",
    "    else:\n",
    "        return(\"Word doesn't! Double Check it!!\")\n",
    "    \n",
    "word=input(\"Enter word :\")\n",
    "output=translate(word.lower())\n",
    "\n",
    "if type(output)==list:\n",
    "    for i in output:\n",
    "        print(i)\n",
    "else:\n",
    "    print(output)"
   ]
  },
  {
   "cell_type": "code",
   "execution_count": 5,
   "metadata": {},
   "outputs": [
    {
     "name": "stdout",
     "output_type": "stream",
     "text": [
      "0.42857142857142855\n",
      "['rain']\n"
     ]
    }
   ],
   "source": [
    "import difflib\n",
    "from difflib import SequenceMatcher\n",
    "from difflib import get_close_matches\n",
    "print(SequenceMatcher(None,\"atishay\",\"yahsita\").ratio())\n",
    "print(get_close_matches(\"rainn\",[\"rain\",\"asdf\",\"help\"]))"
   ]
  }
 ],
 "metadata": {
  "kernelspec": {
   "display_name": "Python 3",
   "language": "python",
   "name": "python3"
  },
  "language_info": {
   "codemirror_mode": {
    "name": "ipython",
    "version": 3
   },
   "file_extension": ".py",
   "mimetype": "text/x-python",
   "name": "python",
   "nbconvert_exporter": "python",
   "pygments_lexer": "ipython3",
   "version": "3.6.5"
  }
 },
 "nbformat": 4,
 "nbformat_minor": 2
}
